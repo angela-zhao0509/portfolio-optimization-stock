{
 "cells": [
  {
   "cell_type": "markdown",
   "metadata": {},
   "source": [
    "#### Name: Angela - Anqi Zhao\n",
    "#### Course: ST 306\n",
    "#### Homework 1\n",
    "#### 2020/08/20"
   ]
  },
  {
   "cell_type": "markdown",
   "metadata": {},
   "source": [
    "### Data Preparation"
   ]
  },
  {
   "cell_type": "code",
   "execution_count": 2,
   "metadata": {},
   "outputs": [],
   "source": [
    "import os\n",
    "import pandas as pd\n",
    "import numpy as np\n",
    "import scipy.stats as scs"
   ]
  },
  {
   "cell_type": "code",
   "execution_count": 3,
   "metadata": {},
   "outputs": [],
   "source": [
    "data = pd.read_csv(\"/Users/angelazhao/Desktop/ST306/Homework/HW1/hw1.csv\")"
   ]
  },
  {
   "cell_type": "code",
   "execution_count": 4,
   "metadata": {},
   "outputs": [],
   "source": [
    "df = pd.DataFrame(data)"
   ]
  },
  {
   "cell_type": "markdown",
   "metadata": {},
   "source": [
    "### Problem 1: Calculate linear returns & compounded returns"
   ]
  },
  {
   "cell_type": "markdown",
   "metadata": {},
   "source": [
    "#### 1. SPTR Index"
   ]
  },
  {
   "cell_type": "code",
   "execution_count": 5,
   "metadata": {},
   "outputs": [
    {
     "data": {
      "text/plain": [
       "0            NaN\n",
       "1       0.013624\n",
       "2       0.022368\n",
       "3      -0.001991\n",
       "4       0.004222\n",
       "          ...   \n",
       "4512    0.000397\n",
       "4513    0.005919\n",
       "4514    0.003439\n",
       "4515    0.013358\n",
       "4516    0.002258\n",
       "Name: lin_rtn_SPTR, Length: 4517, dtype: float64"
      ]
     },
     "execution_count": 5,
     "metadata": {},
     "output_type": "execute_result"
    }
   ],
   "source": [
    "df['lin_rtn_SPTR'] = df['SPTR Index'].pct_change()\n",
    "df['lin_rtn_SPTR']"
   ]
  },
  {
   "cell_type": "code",
   "execution_count": 6,
   "metadata": {},
   "outputs": [
    {
     "data": {
      "text/plain": [
       "0            NaN\n",
       "1       0.013532\n",
       "2       0.022122\n",
       "3      -0.001993\n",
       "4       0.004213\n",
       "          ...   \n",
       "4512    0.000397\n",
       "4513    0.005902\n",
       "4514    0.003433\n",
       "4515    0.013270\n",
       "4516    0.002255\n",
       "Name: c_rtn_SPTR, Length: 4517, dtype: float64"
      ]
     },
     "execution_count": 6,
     "metadata": {},
     "output_type": "execute_result"
    }
   ],
   "source": [
    "df['c_rtn_SPTR'] = np.log(df['SPTR Index'] / df['SPTR Index'].shift(1))\n",
    "df['c_rtn_SPTR']"
   ]
  },
  {
   "cell_type": "markdown",
   "metadata": {},
   "source": [
    "#### 2. FNERTR Index"
   ]
  },
  {
   "cell_type": "code",
   "execution_count": 7,
   "metadata": {},
   "outputs": [
    {
     "data": {
      "text/plain": [
       "0            NaN\n",
       "1       0.003760\n",
       "2       0.001503\n",
       "3      -0.006748\n",
       "4       0.000300\n",
       "          ...   \n",
       "4512    0.010506\n",
       "4513    0.007937\n",
       "4514    0.004543\n",
       "4515    0.020651\n",
       "4516    0.005557\n",
       "Name: lin_rtn_FNERTR, Length: 4517, dtype: float64"
      ]
     },
     "execution_count": 7,
     "metadata": {},
     "output_type": "execute_result"
    }
   ],
   "source": [
    "df['lin_rtn_FNERTR'] = df['FNERTR Index'].pct_change()\n",
    "df['lin_rtn_FNERTR']"
   ]
  },
  {
   "cell_type": "code",
   "execution_count": 8,
   "metadata": {},
   "outputs": [
    {
     "data": {
      "text/plain": [
       "0            NaN\n",
       "1       0.003753\n",
       "2       0.001502\n",
       "3      -0.006771\n",
       "4       0.000300\n",
       "          ...   \n",
       "4512    0.010451\n",
       "4513    0.007906\n",
       "4514    0.004533\n",
       "4515    0.020441\n",
       "4516    0.005542\n",
       "Name: c_rtn_FNERTR, Length: 4517, dtype: float64"
      ]
     },
     "execution_count": 8,
     "metadata": {},
     "output_type": "execute_result"
    }
   ],
   "source": [
    "df['c_rtn_FNERTR'] = np.log(df['FNERTR Index'] / df['FNERTR Index'].shift(1))\n",
    "df['c_rtn_FNERTR']"
   ]
  },
  {
   "cell_type": "markdown",
   "metadata": {},
   "source": [
    "#### 3. RU10INTR Index"
   ]
  },
  {
   "cell_type": "code",
   "execution_count": 9,
   "metadata": {},
   "outputs": [
    {
     "data": {
      "text/plain": [
       "0            NaN\n",
       "1       0.012301\n",
       "2       0.021337\n",
       "3      -0.000946\n",
       "4       0.004282\n",
       "          ...   \n",
       "4512    0.000401\n",
       "4513    0.006377\n",
       "4514    0.004042\n",
       "4515    0.013009\n",
       "4516    0.002801\n",
       "Name: lin_rtn_RU10INTR, Length: 4517, dtype: float64"
      ]
     },
     "execution_count": 9,
     "metadata": {},
     "output_type": "execute_result"
    }
   ],
   "source": [
    "df['lin_rtn_RU10INTR'] = df['RU10INTR Index'].pct_change()\n",
    "df['lin_rtn_RU10INTR']"
   ]
  },
  {
   "cell_type": "code",
   "execution_count": 10,
   "metadata": {},
   "outputs": [
    {
     "data": {
      "text/plain": [
       "0            NaN\n",
       "1       0.003753\n",
       "2       0.001502\n",
       "3      -0.006771\n",
       "4       0.000300\n",
       "          ...   \n",
       "4512    0.010451\n",
       "4513    0.007906\n",
       "4514    0.004533\n",
       "4515    0.020441\n",
       "4516    0.005542\n",
       "Name: c_rtn_RU10INTR, Length: 4517, dtype: float64"
      ]
     },
     "execution_count": 10,
     "metadata": {},
     "output_type": "execute_result"
    }
   ],
   "source": [
    "df['c_rtn_RU10INTR'] = np.log(df['FNERTR Index'] / df['FNERTR Index'].shift(1))\n",
    "df['c_rtn_RU10INTR']"
   ]
  },
  {
   "cell_type": "markdown",
   "metadata": {},
   "source": [
    "#### 4. SPGSCITR Index"
   ]
  },
  {
   "cell_type": "code",
   "execution_count": 11,
   "metadata": {},
   "outputs": [
    {
     "data": {
      "text/plain": [
       "0            NaN\n",
       "1      -0.008623\n",
       "2       0.029791\n",
       "3       0.002096\n",
       "4       0.003761\n",
       "          ...   \n",
       "4512    0.004221\n",
       "4513    0.009845\n",
       "4514   -0.007819\n",
       "4515   -0.011434\n",
       "4516    0.007634\n",
       "Name: lin_rtn_SPGSCITR, Length: 4517, dtype: float64"
      ]
     },
     "execution_count": 11,
     "metadata": {},
     "output_type": "execute_result"
    }
   ],
   "source": [
    "df['lin_rtn_SPGSCITR'] = df['SPGSCITR Index'].pct_change()\n",
    "df['lin_rtn_SPGSCITR']"
   ]
  },
  {
   "cell_type": "code",
   "execution_count": 12,
   "metadata": {},
   "outputs": [
    {
     "data": {
      "text/plain": [
       "0            NaN\n",
       "1      -0.008660\n",
       "2       0.029356\n",
       "3       0.002094\n",
       "4       0.003754\n",
       "          ...   \n",
       "4512    0.004212\n",
       "4513    0.009797\n",
       "4514   -0.007849\n",
       "4515   -0.011500\n",
       "4516    0.007605\n",
       "Name: c_rtn_SPGSCITR, Length: 4517, dtype: float64"
      ]
     },
     "execution_count": 12,
     "metadata": {},
     "output_type": "execute_result"
    }
   ],
   "source": [
    "df['c_rtn_SPGSCITR'] = np.log(df['SPGSCITR Index'] / df['SPGSCITR Index'].shift(1))\n",
    "df['c_rtn_SPGSCITR']"
   ]
  },
  {
   "cell_type": "markdown",
   "metadata": {},
   "source": [
    "#### 5. GDDUEAFE Index"
   ]
  },
  {
   "cell_type": "code",
   "execution_count": 13,
   "metadata": {},
   "outputs": [
    {
     "data": {
      "text/plain": [
       "0            NaN\n",
       "1       0.006591\n",
       "2       0.014800\n",
       "3      -0.005990\n",
       "4      -0.005899\n",
       "          ...   \n",
       "4512   -0.000227\n",
       "4513    0.004063\n",
       "4514    0.009727\n",
       "4515    0.011911\n",
       "4516    0.001525\n",
       "Name: lin_rtn_GDDUEAFE, Length: 4517, dtype: float64"
      ]
     },
     "execution_count": 13,
     "metadata": {},
     "output_type": "execute_result"
    }
   ],
   "source": [
    "df['lin_rtn_GDDUEAFE'] = df['GDDUEAFE Index'].pct_change()\n",
    "df['lin_rtn_GDDUEAFE']"
   ]
  },
  {
   "cell_type": "code",
   "execution_count": 14,
   "metadata": {},
   "outputs": [
    {
     "data": {
      "text/plain": [
       "0            NaN\n",
       "1       0.006570\n",
       "2       0.014691\n",
       "3      -0.006008\n",
       "4      -0.005916\n",
       "          ...   \n",
       "4512   -0.000227\n",
       "4513    0.004054\n",
       "4514    0.009680\n",
       "4515    0.011841\n",
       "4516    0.001524\n",
       "Name: c_rtn_GDDUEAFE, Length: 4517, dtype: float64"
      ]
     },
     "execution_count": 14,
     "metadata": {},
     "output_type": "execute_result"
    }
   ],
   "source": [
    "df['c_rtn_GDDUEAFE'] = np.log(df['GDDUEAFE Index'] / df['GDDUEAFE Index'].shift(1))\n",
    "df['c_rtn_GDDUEAFE']"
   ]
  },
  {
   "cell_type": "markdown",
   "metadata": {},
   "source": [
    "#### 6. LBUSTRUU Index"
   ]
  },
  {
   "cell_type": "code",
   "execution_count": 15,
   "metadata": {},
   "outputs": [
    {
     "data": {
      "text/plain": [
       "0            NaN\n",
       "1      -0.001737\n",
       "2       0.001669\n",
       "3      -0.001857\n",
       "4      -0.003124\n",
       "          ...   \n",
       "4512    0.002965\n",
       "4513    0.000269\n",
       "4514   -0.000289\n",
       "4515    0.002728\n",
       "4516   -0.001710\n",
       "Name: lin_rtn_LBUSTRUU, Length: 4517, dtype: float64"
      ]
     },
     "execution_count": 15,
     "metadata": {},
     "output_type": "execute_result"
    }
   ],
   "source": [
    "df['lin_rtn_LBUSTRUU'] = df['LBUSTRUU Index'].pct_change()\n",
    "df['lin_rtn_LBUSTRUU']"
   ]
  },
  {
   "cell_type": "code",
   "execution_count": 16,
   "metadata": {},
   "outputs": [
    {
     "data": {
      "text/plain": [
       "0            NaN\n",
       "1      -0.001739\n",
       "2       0.001668\n",
       "3      -0.001858\n",
       "4      -0.003129\n",
       "          ...   \n",
       "4512    0.002961\n",
       "4513    0.000269\n",
       "4514   -0.000289\n",
       "4515    0.002725\n",
       "4516   -0.001711\n",
       "Name: c_rtn_LBUSTRUU, Length: 4517, dtype: float64"
      ]
     },
     "execution_count": 16,
     "metadata": {},
     "output_type": "execute_result"
    }
   ],
   "source": [
    "df['c_rtn_LBUSTRUU'] = np.log(df['LBUSTRUU Index'] / df['LBUSTRUU Index'].shift(1))\n",
    "df['c_rtn_LBUSTRUU']"
   ]
  },
  {
   "cell_type": "markdown",
   "metadata": {},
   "source": [
    "#### 7. LF98TRUU Index"
   ]
  },
  {
   "cell_type": "code",
   "execution_count": 17,
   "metadata": {},
   "outputs": [
    {
     "data": {
      "text/plain": [
       "0            NaN\n",
       "1       0.000484\n",
       "2       0.000912\n",
       "3       0.000670\n",
       "4       0.001487\n",
       "          ...   \n",
       "4512    0.001016\n",
       "4513    0.001963\n",
       "4514    0.003102\n",
       "4515    0.003790\n",
       "4516    0.001351\n",
       "Name: lin_rtn_LF98TRUU, Length: 4517, dtype: float64"
      ]
     },
     "execution_count": 17,
     "metadata": {},
     "output_type": "execute_result"
    }
   ],
   "source": [
    "df['lin_rtn_LF98TRUU'] = df['LF98TRUU Index'].pct_change()\n",
    "df['lin_rtn_LF98TRUU']"
   ]
  },
  {
   "cell_type": "code",
   "execution_count": 18,
   "metadata": {},
   "outputs": [
    {
     "data": {
      "text/plain": [
       "0            NaN\n",
       "1       0.000484\n",
       "2       0.000912\n",
       "3       0.000669\n",
       "4       0.001486\n",
       "          ...   \n",
       "4512    0.001016\n",
       "4513    0.001961\n",
       "4514    0.003097\n",
       "4515    0.003782\n",
       "4516    0.001350\n",
       "Name: c_rtn_LF98TRUU, Length: 4517, dtype: float64"
      ]
     },
     "execution_count": 18,
     "metadata": {},
     "output_type": "execute_result"
    }
   ],
   "source": [
    "df['c_rtn_LF98TRUU'] = np.log(df['LF98TRUU Index'] / df['LF98TRUU Index'].shift(1))\n",
    "df['c_rtn_LF98TRUU']"
   ]
  },
  {
   "cell_type": "markdown",
   "metadata": {},
   "source": [
    "#### 8. GDLEEGF Index"
   ]
  },
  {
   "cell_type": "code",
   "execution_count": 19,
   "metadata": {},
   "outputs": [
    {
     "data": {
      "text/plain": [
       "0            NaN\n",
       "1       0.003617\n",
       "2       0.022741\n",
       "3       0.012809\n",
       "4      -0.003493\n",
       "          ...   \n",
       "4512   -0.006628\n",
       "4513    0.000030\n",
       "4514    0.005965\n",
       "4515    0.003995\n",
       "4516    0.012108\n",
       "Name: lin_rtn_GDLEEGF, Length: 4517, dtype: float64"
      ]
     },
     "execution_count": 19,
     "metadata": {},
     "output_type": "execute_result"
    }
   ],
   "source": [
    "df['lin_rtn_GDLEEGF'] = df['GDLEEGF Index'].pct_change()\n",
    "df['lin_rtn_GDLEEGF']"
   ]
  },
  {
   "cell_type": "code",
   "execution_count": 20,
   "metadata": {},
   "outputs": [
    {
     "data": {
      "text/plain": [
       "0            NaN\n",
       "1       0.003611\n",
       "2       0.022486\n",
       "3       0.012728\n",
       "4      -0.003499\n",
       "          ...   \n",
       "4512   -0.006650\n",
       "4513    0.000030\n",
       "4514    0.005947\n",
       "4515    0.003987\n",
       "4516    0.012035\n",
       "Name: c_rtn_GDLEEGF, Length: 4517, dtype: float64"
      ]
     },
     "execution_count": 20,
     "metadata": {},
     "output_type": "execute_result"
    }
   ],
   "source": [
    "df['c_rtn_GDLEEGF'] = np.log(df['GDLEEGF Index'] / df['GDLEEGF Index'].shift(1))\n",
    "df['c_rtn_GDLEEGF']"
   ]
  },
  {
   "cell_type": "markdown",
   "metadata": {},
   "source": [
    "### Problem 2: Calculate summary statistics"
   ]
  },
  {
   "cell_type": "markdown",
   "metadata": {},
   "source": [
    "#### 1. SPTR Index"
   ]
  },
  {
   "cell_type": "code",
   "execution_count": 21,
   "metadata": {},
   "outputs": [
    {
     "name": "stdout",
     "output_type": "stream",
     "text": [
      "Linear Returns: \n",
      "Mean:  0.0002859127472768251\n",
      "Standard Deviation:  0.012398031653796906\n",
      "Skewness:  0.0013773969666743234\n",
      "Kurtosis:  7.999341615459366\n",
      "\n",
      "Compounded Returns: \n",
      "Mean:  0.00020901375976678098\n",
      "Standard Deviation:  0.012403653880352465\n",
      "Skewness:  -0.18210606259286585\n",
      "Kurtosis:  7.837554950339941\n"
     ]
    }
   ],
   "source": [
    "print(\"Linear Returns: \")\n",
    "print(\"Mean: \", df['lin_rtn_SPTR'].mean())\n",
    "print(\"Standard Deviation: \", df['lin_rtn_SPTR'].std())\n",
    "print(\"Skewness: \", df['lin_rtn_SPTR'].skew())\n",
    "print(\"Kurtosis: \", df['lin_rtn_SPTR'].kurtosis())\n",
    "print(\"\")\n",
    "print(\"Compounded Returns: \")\n",
    "print(\"Mean: \", df['c_rtn_SPTR'].mean())\n",
    "print(\"Standard Deviation: \", df['c_rtn_SPTR'].std())\n",
    "print(\"Skewness: \", df['c_rtn_SPTR'].skew())\n",
    "print(\"Kurtosis: \", df['c_rtn_SPTR'].kurtosis())"
   ]
  },
  {
   "cell_type": "markdown",
   "metadata": {},
   "source": [
    "#### 2. FNERTR Index"
   ]
  },
  {
   "cell_type": "code",
   "execution_count": 22,
   "metadata": {},
   "outputs": [
    {
     "name": "stdout",
     "output_type": "stream",
     "text": [
      "Linear Returns: \n",
      "Mean:  0.0005720659601851948\n",
      "Standard Deviation:  0.018275986162274466\n",
      "Skewness:  0.4156447661787773\n",
      "Kurtosis:  20.657434382910232\n",
      "\n",
      "Compounded Returns: \n",
      "Mean:  0.0004053168997890653\n",
      "Standard Deviation:  0.018260865493333975\n",
      "Skewness:  -0.19964045296421412\n",
      "Kurtosis:  20.680632305303185\n"
     ]
    }
   ],
   "source": [
    "print(\"Linear Returns: \")\n",
    "print(\"Mean: \", df['lin_rtn_FNERTR'].mean())\n",
    "print(\"Standard Deviation: \", df['lin_rtn_FNERTR'].std())\n",
    "print(\"Skewness: \", df['lin_rtn_FNERTR'].skew())\n",
    "print(\"Kurtosis: \", df['lin_rtn_FNERTR'].kurtosis())\n",
    "print(\"\")\n",
    "print(\"Compounded Returns: \")\n",
    "print(\"Mean: \", df['c_rtn_FNERTR'].mean())\n",
    "print(\"Standard Deviation: \", df['c_rtn_FNERTR'].std())\n",
    "print(\"Skewness: \", df['c_rtn_FNERTR'].skew())\n",
    "print(\"Kurtosis: \", df['c_rtn_FNERTR'].kurtosis())"
   ]
  },
  {
   "cell_type": "markdown",
   "metadata": {},
   "source": [
    "#### 3. RU10INTR Index"
   ]
  },
  {
   "cell_type": "code",
   "execution_count": 23,
   "metadata": {},
   "outputs": [
    {
     "name": "stdout",
     "output_type": "stream",
     "text": [
      "Linear Returns: \n",
      "Mean:  0.00029844224778434583\n",
      "Standard Deviation:  0.012472822368804518\n",
      "Skewness:  -0.02092254344129874\n",
      "Kurtosis:  7.844378557645232\n",
      "\n",
      "Compounded Returns: \n",
      "Mean:  0.0004053168997890653\n",
      "Standard Deviation:  0.018260865493333975\n",
      "Skewness:  -0.19964045296421412\n",
      "Kurtosis:  20.680632305303185\n"
     ]
    }
   ],
   "source": [
    "print(\"Linear Returns: \")\n",
    "print(\"Mean: \", df['lin_rtn_RU10INTR'].mean())\n",
    "print(\"Standard Deviation: \", df['lin_rtn_RU10INTR'].std())\n",
    "print(\"Skewness: \", df['lin_rtn_RU10INTR'].skew())\n",
    "print(\"Kurtosis: \", df['lin_rtn_RU10INTR'].kurtosis())\n",
    "print(\"\")\n",
    "print(\"Compounded Returns: \")\n",
    "print(\"Mean: \", df['c_rtn_RU10INTR'].mean())\n",
    "print(\"Standard Deviation: \", df['c_rtn_RU10INTR'].std())\n",
    "print(\"Skewness: \", df['c_rtn_RU10INTR'].skew())\n",
    "print(\"Kurtosis: \", df['c_rtn_RU10INTR'].kurtosis())"
   ]
  },
  {
   "cell_type": "markdown",
   "metadata": {},
   "source": [
    "#### 4. SPGSCITR Index"
   ]
  },
  {
   "cell_type": "code",
   "execution_count": 24,
   "metadata": {},
   "outputs": [
    {
     "name": "stdout",
     "output_type": "stream",
     "text": [
      "Linear Returns: \n",
      "Mean:  0.0001478428078447472\n",
      "Standard Deviation:  0.014843635220377212\n",
      "Skewness:  -0.14028831580007917\n",
      "Kurtosis:  2.3454434749721615\n",
      "\n",
      "Compounded Returns: \n",
      "Mean:  3.7503940459028514e-05\n",
      "Standard Deviation:  0.014864545510019696\n",
      "Skewness:  -0.23746873102870994\n",
      "Kurtosis:  2.4487569015983137\n"
     ]
    }
   ],
   "source": [
    "print(\"Linear Returns: \")\n",
    "print(\"Mean: \", df['lin_rtn_SPGSCITR'].mean())\n",
    "print(\"Standard Deviation: \", df['lin_rtn_SPGSCITR'].std())\n",
    "print(\"Skewness: \", df['lin_rtn_SPGSCITR'].skew())\n",
    "print(\"Kurtosis: \", df['lin_rtn_SPGSCITR'].kurtosis())\n",
    "print(\"\")\n",
    "print(\"Compounded Returns: \")\n",
    "print(\"Mean: \", df['c_rtn_SPGSCITR'].mean())\n",
    "print(\"Standard Deviation: \", df['c_rtn_SPGSCITR'].std())\n",
    "print(\"Skewness: \", df['c_rtn_SPGSCITR'].skew())\n",
    "print(\"Kurtosis: \", df['c_rtn_SPGSCITR'].kurtosis())"
   ]
  },
  {
   "cell_type": "markdown",
   "metadata": {},
   "source": [
    "#### 5. GDDUEAFE Index"
   ]
  },
  {
   "cell_type": "code",
   "execution_count": 25,
   "metadata": {},
   "outputs": [
    {
     "name": "stdout",
     "output_type": "stream",
     "text": [
      "Linear Returns: \n",
      "Mean:  0.0002130615752128364\n",
      "Standard Deviation:  0.011475064050469365\n",
      "Skewness:  -0.23542421649008358\n",
      "Kurtosis:  6.369735695750753\n",
      "\n",
      "Compounded Returns: \n",
      "Mean:  0.00014708377569107675\n",
      "Standard Deviation:  0.011494416839617388\n",
      "Skewness:  -0.37857289509107866\n",
      "Kurtosis:  6.461921775401985\n"
     ]
    }
   ],
   "source": [
    "print(\"Linear Returns: \")\n",
    "print(\"Mean: \", df['lin_rtn_GDDUEAFE'].mean())\n",
    "print(\"Standard Deviation: \", df['lin_rtn_GDDUEAFE'].std())\n",
    "print(\"Skewness: \", df['lin_rtn_GDDUEAFE'].skew())\n",
    "print(\"Kurtosis: \", df['lin_rtn_GDDUEAFE'].kurtosis())\n",
    "print(\"\")\n",
    "print(\"Compounded Returns: \")\n",
    "print(\"Mean: \", df['c_rtn_GDDUEAFE'].mean())\n",
    "print(\"Standard Deviation: \", df['c_rtn_GDDUEAFE'].std())\n",
    "print(\"Skewness: \", df['c_rtn_GDDUEAFE'].skew())\n",
    "print(\"Kurtosis: \", df['c_rtn_GDDUEAFE'].kurtosis())"
   ]
  },
  {
   "cell_type": "markdown",
   "metadata": {},
   "source": [
    "#### 6. LBUSTRUU Index"
   ]
  },
  {
   "cell_type": "code",
   "execution_count": 26,
   "metadata": {},
   "outputs": [
    {
     "name": "stdout",
     "output_type": "stream",
     "text": [
      "Linear Returns: \n",
      "Mean:  0.00019193930276331298\n",
      "Standard Deviation:  0.0023784982976007897\n",
      "Skewness:  -0.157055130891619\n",
      "Kurtosis:  1.4876345753863989\n",
      "\n",
      "Compounded Returns: \n",
      "Mean:  0.0001890932299297663\n",
      "Standard Deviation:  0.002378511667886326\n",
      "Skewness:  -0.16939925101715786\n",
      "Kurtosis:  1.4902475693309265\n"
     ]
    }
   ],
   "source": [
    "print(\"Linear Returns: \")\n",
    "print(\"Mean: \", df['lin_rtn_LBUSTRUU'].mean())\n",
    "print(\"Standard Deviation: \", df['lin_rtn_LBUSTRUU'].std())\n",
    "print(\"Skewness: \", df['lin_rtn_LBUSTRUU'].skew())\n",
    "print(\"Kurtosis: \", df['lin_rtn_LBUSTRUU'].kurtosis())\n",
    "print(\"\")\n",
    "print(\"Compounded Returns: \")\n",
    "print(\"Mean: \", df['c_rtn_LBUSTRUU'].mean())\n",
    "print(\"Standard Deviation: \", df['c_rtn_LBUSTRUU'].std())\n",
    "print(\"Skewness: \", df['c_rtn_LBUSTRUU'].skew())\n",
    "print(\"Kurtosis: \", df['c_rtn_LBUSTRUU'].kurtosis())"
   ]
  },
  {
   "cell_type": "markdown",
   "metadata": {},
   "source": [
    "#### 7. LF98TRUU Index"
   ]
  },
  {
   "cell_type": "code",
   "execution_count": 27,
   "metadata": {},
   "outputs": [
    {
     "name": "stdout",
     "output_type": "stream",
     "text": [
      "Linear Returns: \n",
      "Mean:  0.0002727573850866517\n",
      "Standard Deviation:  0.003066734991902724\n",
      "Skewness:  -2.1100343536354513\n",
      "Kurtosis:  32.28398846644858\n",
      "\n",
      "Compounded Returns: \n",
      "Mean:  0.00026800031531132014\n",
      "Standard Deviation:  0.0030762672682014347\n",
      "Skewness:  -2.249899105936601\n",
      "Kurtosis:  33.7766542744815\n"
     ]
    }
   ],
   "source": [
    "print(\"Linear Returns: \")\n",
    "print(\"Mean: \", df['lin_rtn_LF98TRUU'].mean())\n",
    "print(\"Standard Deviation: \", df['lin_rtn_LF98TRUU'].std())\n",
    "print(\"Skewness: \", df['lin_rtn_LF98TRUU'].skew())\n",
    "print(\"Kurtosis: \", df['lin_rtn_LF98TRUU'].kurtosis())\n",
    "print(\"\")\n",
    "print(\"Compounded Returns: \")\n",
    "print(\"Mean: \", df['c_rtn_LF98TRUU'].mean())\n",
    "print(\"Standard Deviation: \", df['c_rtn_LF98TRUU'].std())\n",
    "print(\"Skewness: \", df['c_rtn_LF98TRUU'].skew())\n",
    "print(\"Kurtosis: \", df['c_rtn_LF98TRUU'].kurtosis())"
   ]
  },
  {
   "cell_type": "markdown",
   "metadata": {},
   "source": [
    "#### 8. GDLEEGF Index"
   ]
  },
  {
   "cell_type": "code",
   "execution_count": 28,
   "metadata": {},
   "outputs": [
    {
     "name": "stdout",
     "output_type": "stream",
     "text": [
      "Linear Returns: \n",
      "Mean:  0.00045930948058645505\n",
      "Standard Deviation:  0.010232371183203255\n",
      "Skewness:  -0.3213480275676817\n",
      "Kurtosis:  7.11486246357949\n",
      "\n",
      "Compounded Returns: \n",
      "Mean:  0.0004067707284358831\n",
      "Standard Deviation:  0.010249286900279935\n",
      "Skewness:  -0.4588188819616976\n",
      "Kurtosis:  7.130968883112185\n"
     ]
    }
   ],
   "source": [
    "print(\"Linear Returns: \")\n",
    "print(\"Mean: \", df['lin_rtn_GDLEEGF'].mean())\n",
    "print(\"Standard Deviation: \", df['lin_rtn_GDLEEGF'].std())\n",
    "print(\"Skewness: \", df['lin_rtn_GDLEEGF'].skew())\n",
    "print(\"Kurtosis: \", df['lin_rtn_GDLEEGF'].kurtosis())\n",
    "print(\"\")\n",
    "print(\"Compounded Returns: \")\n",
    "print(\"Mean: \", df['c_rtn_GDLEEGF'].mean())\n",
    "print(\"Standard Deviation: \", df['c_rtn_GDLEEGF'].std())\n",
    "print(\"Skewness: \", df['c_rtn_GDLEEGF'].skew())\n",
    "print(\"Kurtosis: \", df['c_rtn_GDLEEGF'].kurtosis())"
   ]
  },
  {
   "cell_type": "markdown",
   "metadata": {},
   "source": [
    "### Problem 3: Perform Normality Test"
   ]
  },
  {
   "cell_type": "markdown",
   "metadata": {},
   "source": [
    "#### 1. SPTR Index"
   ]
  },
  {
   "cell_type": "code",
   "execution_count": 37,
   "metadata": {},
   "outputs": [
    {
     "name": "stdout",
     "output_type": "stream",
     "text": [
      "Jarque-Bera statistic for SPTR (linear returns):  12010.052708884074 with p-value:  0.0\n",
      "Jarque-Bera statistic for SPTR (compounded returns):  11554.022160911953 with p-value:  0.0\n"
     ]
    }
   ],
   "source": [
    "lr1 = df['lin_rtn_SPTR'].drop(0)\n",
    "cr1 = df['c_rtn_SPTR'].drop(0)\n",
    "jb_test_lr1 = scs.jarque_bera(lr1)\n",
    "jb_test_cr1 = scs.jarque_bera(cr1)\n",
    "print('Jarque-Bera statistic for SPTR (linear returns): ', jb_test_lr1[0], 'with p-value: ', jb_test_lr1[1])\n",
    "print('Jarque-Bera statistic for SPTR (compounded returns): ', jb_test_cr1[0], 'with p-value: ', jb_test_cr1[1])"
   ]
  },
  {
   "cell_type": "markdown",
   "metadata": {},
   "source": [
    "#### 2. FNERTR Index"
   ]
  },
  {
   "cell_type": "code",
   "execution_count": 38,
   "metadata": {},
   "outputs": [
    {
     "name": "stdout",
     "output_type": "stream",
     "text": [
      "Jarque-Bera statistic for FNERTR (linear returns):  80238.26507648197 with p-value:  0.0\n",
      "Jarque-Bera statistic for FNERTR (compounded returns):  80318.33190390868 with p-value:  0.0\n"
     ]
    }
   ],
   "source": [
    "lr2 = df['lin_rtn_FNERTR'].drop(0)\n",
    "cr2 = df['c_rtn_FNERTR'].drop(0)\n",
    "jb_test_lr2 = scs.jarque_bera(lr2)\n",
    "jb_test_cr2 = scs.jarque_bera(cr2)\n",
    "print('Jarque-Bera statistic for FNERTR (linear returns): ', jb_test_lr2[0], 'with p-value: ', jb_test_lr2[1])\n",
    "print('Jarque-Bera statistic for FNERTR (compounded returns): ', jb_test_cr2[0], 'with p-value: ', jb_test_cr2[1])"
   ]
  },
  {
   "cell_type": "markdown",
   "metadata": {},
   "source": [
    "#### 3. RU10INTR Index"
   ]
  },
  {
   "cell_type": "code",
   "execution_count": 39,
   "metadata": {},
   "outputs": [
    {
     "name": "stdout",
     "output_type": "stream",
     "text": [
      "Jarque-Bera statistic for RU10INTR (linear returns):  11549.494869234526 with p-value:  0.0\n",
      "Jarque-Bera statistic for RU10INTR (compounded returns):  80318.33190390868 with p-value:  0.0\n"
     ]
    }
   ],
   "source": [
    "lr3 = df['lin_rtn_RU10INTR'].drop(0)\n",
    "cr3 = df['c_rtn_RU10INTR'].drop(0)\n",
    "jb_test_lr3 = scs.jarque_bera(lr3)\n",
    "jb_test_cr3 = scs.jarque_bera(cr3)\n",
    "print('Jarque-Bera statistic for RU10INTR (linear returns): ', jb_test_lr3[0], 'with p-value: ', jb_test_lr3[1])\n",
    "print('Jarque-Bera statistic for RU10INTR (compounded returns): ', jb_test_cr3[0], 'with p-value: ', jb_test_cr3[1])"
   ]
  },
  {
   "cell_type": "markdown",
   "metadata": {},
   "source": [
    "#### 4. SPGSCITR Index"
   ]
  },
  {
   "cell_type": "code",
   "execution_count": 40,
   "metadata": {},
   "outputs": [
    {
     "name": "stdout",
     "output_type": "stream",
     "text": [
      "Jarque-Bera statistic for SPGSCITR (linear returns):  1046.466878783048 with p-value:  0.0\n",
      "Jarque-Bera statistic for SPGSCITR (compounded returns):  1167.0215139973088 with p-value:  0.0\n"
     ]
    }
   ],
   "source": [
    "lr4 = df['lin_rtn_SPGSCITR'].drop(0)\n",
    "cr4 = df['c_rtn_SPGSCITR'].drop(0)\n",
    "jb_test_lr4 = scs.jarque_bera(lr4)\n",
    "jb_test_cr4 = scs.jarque_bera(cr4)\n",
    "print('Jarque-Bera statistic for SPGSCITR (linear returns): ', jb_test_lr4[0], 'with p-value: ', jb_test_lr4[1])\n",
    "print('Jarque-Bera statistic for SPGSCITR (compounded returns): ', jb_test_cr4[0], 'with p-value: ', jb_test_cr4[1])"
   ]
  },
  {
   "cell_type": "markdown",
   "metadata": {},
   "source": [
    "#### 5. GDDUEAFE Index"
   ]
  },
  {
   "cell_type": "code",
   "execution_count": 45,
   "metadata": {},
   "outputs": [
    {
     "name": "stdout",
     "output_type": "stream",
     "text": [
      "Jarque-Bera statistic for GDDUEAFE (linear returns):  7656.203585997414 with p-value:  0.0\n",
      "Jarque-Bera statistic for GDDUEAFE (compounded returns):  7944.357585934587 with p-value:  0.0\n"
     ]
    }
   ],
   "source": [
    "lr5 = df['lin_rtn_GDDUEAFE'].drop(0)\n",
    "cr5 = df['c_rtn_GDDUEAFE'].drop(0)\n",
    "jb_test_lr5 = scs.jarque_bera(lr5)\n",
    "jb_test_cr5 = scs.jarque_bera(cr5)\n",
    "print('Jarque-Bera statistic for GDDUEAFE (linear returns): ', jb_test_lr5[0], 'with p-value: ', jb_test_lr5[1])\n",
    "print('Jarque-Bera statistic for GDDUEAFE (compounded returns): ', jb_test_cr5[0], 'with p-value: ', jb_test_cr5[1])"
   ]
  },
  {
   "cell_type": "markdown",
   "metadata": {},
   "source": [
    "#### 6. LBUSTRUU Index"
   ]
  },
  {
   "cell_type": "code",
   "execution_count": 44,
   "metadata": {},
   "outputs": [
    {
     "name": "stdout",
     "output_type": "stream",
     "text": [
      "Jarque-Bera statistic for LBUSTRUU (linear returns):  1046.466878783048 with p-value:  0.0\n",
      "Jarque-Bera statistic for LBUSTRUU (compounded returns):  1167.0215139973088 with p-value:  0.0\n"
     ]
    }
   ],
   "source": [
    "lr6 = df['lin_rtn_LBUSTRUU'].drop(0)\n",
    "cr6 = df['c_rtn_LBUSTRUU'].drop(0)\n",
    "jb_test_lr6 = scs.jarque_bera(lr4)\n",
    "jb_test_cr6 = scs.jarque_bera(cr4)\n",
    "print('Jarque-Bera statistic for LBUSTRUU (linear returns): ', jb_test_lr6[0], 'with p-value: ', jb_test_lr6[1])\n",
    "print('Jarque-Bera statistic for LBUSTRUU (compounded returns): ', jb_test_cr6[0], 'with p-value: ', jb_test_cr6[1])"
   ]
  },
  {
   "cell_type": "markdown",
   "metadata": {},
   "source": [
    "#### 7. LF98TRUU Index"
   ]
  },
  {
   "cell_type": "code",
   "execution_count": 43,
   "metadata": {},
   "outputs": [
    {
     "name": "stdout",
     "output_type": "stream",
     "text": [
      "Jarque-Bera statistic for LF98TRUU (linear returns):  199016.63241249663 with p-value:  0.0\n",
      "Jarque-Bera statistic for LF98TRUU (compounded returns):  217987.95792182154 with p-value:  0.0\n"
     ]
    }
   ],
   "source": [
    "lr7 = df['lin_rtn_LF98TRUU'].drop(0)\n",
    "cr7 = df['c_rtn_LF98TRUU'].drop(0)\n",
    "jb_test_lr7 = scs.jarque_bera(lr7)\n",
    "jb_test_cr7 = scs.jarque_bera(cr7)\n",
    "print('Jarque-Bera statistic for LF98TRUU (linear returns): ', jb_test_lr7[0], 'with p-value: ', jb_test_lr7[1])\n",
    "print('Jarque-Bera statistic for LF98TRUU (compounded returns): ', jb_test_cr7[0], 'with p-value: ', jb_test_cr7[1])"
   ]
  },
  {
   "cell_type": "markdown",
   "metadata": {},
   "source": [
    "#### 8. GDLEEGF Index"
   ]
  },
  {
   "cell_type": "code",
   "execution_count": 41,
   "metadata": {},
   "outputs": [
    {
     "name": "stdout",
     "output_type": "stream",
     "text": [
      "Jarque-Bera statistic for GDLEEGF (linear returns):  9578.281035259919 with p-value:  0.0\n",
      "Jarque-Bera statistic for GDLEEGF (compounded returns):  9702.022226288167 with p-value:  0.0\n"
     ]
    }
   ],
   "source": [
    "lr8 = df['lin_rtn_GDLEEGF'].drop(0)\n",
    "cr8 = df['c_rtn_GDLEEGF'].drop(0)\n",
    "jb_test_lr8 = scs.jarque_bera(lr8)\n",
    "jb_test_cr8 = scs.jarque_bera(cr8)\n",
    "print('Jarque-Bera statistic for GDLEEGF (linear returns): ', jb_test_lr8[0], 'with p-value: ', jb_test_lr8[1])\n",
    "print('Jarque-Bera statistic for GDLEEGF (compounded returns): ', jb_test_cr8[0], 'with p-value: ', jb_test_cr8[1])"
   ]
  }
 ],
 "metadata": {
  "kernelspec": {
   "display_name": "Python 3",
   "language": "python",
   "name": "python3"
  },
  "language_info": {
   "codemirror_mode": {
    "name": "ipython",
    "version": 3
   },
   "file_extension": ".py",
   "mimetype": "text/x-python",
   "name": "python",
   "nbconvert_exporter": "python",
   "pygments_lexer": "ipython3",
   "version": "3.8.3"
  }
 },
 "nbformat": 4,
 "nbformat_minor": 4
}
